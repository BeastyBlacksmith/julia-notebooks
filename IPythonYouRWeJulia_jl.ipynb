{
  "cells": [
    {
      "cell_type": "markdown",
      "source": [
        "Cells that are commented out ( that is, starting with `#` ) are supposed to be run once, if the cells underneath are not running correctly."
      ],
      "metadata": {}
    },
    {
      "cell_type": "markdown",
      "source": [
        "This notebook shows how to do the stuff shown in [this blog post](https://blog.jupyter.org/i-python-you-r-we-julia-baf064ca1fb6) having the julia kernel launched."
      ],
      "metadata": {}
    },
    {
      "cell_type": "code",
      "source": [
        "# using Pkg\n",
        "# pkg\"add PyCall RCall\""
      ],
      "outputs": [],
      "execution_count": 1,
      "metadata": {}
    },
    {
      "cell_type": "markdown",
      "source": [
        "This is loading the `PyCall` and `RCall` packages."
      ],
      "metadata": {}
    },
    {
      "cell_type": "code",
      "source": [
        "using PyCall,RCall;"
      ],
      "outputs": [
        {
          "output_type": "stream",
          "name": "stderr",
          "text": [
            "┌ Info: Recompiling stale cache file /usr/home/christ/.julia/compiled/v1.1/PyCall/GkzkC.ji for PyCall [438e738f-606a-5dbb-bf0a-cddfbfd45ab0]\n",
            "└ @ Base loading.jl:1184\n"
          ]
        }
      ],
      "execution_count": 2,
      "metadata": {}
    },
    {
      "cell_type": "markdown",
      "source": [
        "We can inspect the names exported by a Package with the `names` function. We use the `show` function to view the full output instead of the truncated one."
      ],
      "metadata": {}
    },
    {
      "cell_type": "code",
      "source": [
        "show(names(RCall))"
      ],
      "outputs": [
        {
          "output_type": "stream",
          "name": "stdout",
          "text": [
            "Symbol[Symbol(\"@R_str\"), Symbol(\"@rget\"), Symbol(\"@rimport\"), Symbol(\"@rlibrary\"), Symbol(\"@rput\"), Symbol(\"@var_str\"), :CharSxp, :ClosSxp, :CplxSxp, :EnvSxp, :IntSxp, :LangSxp, :LglSxp, :ListSxp, :NilSxp, :RCall, :RObject, :RealSxp, :S4Sxp, :StrSxp, :Sxp, :VecSxp, :anyna, :attributes, :getattrib, :getclass, :getnames, :globalEnv, :isna, :isnull, :rcall, :rcopy, :reval, :rimport, :rlang, :robject, :rparse, :rprint, :setattrib!, :setclass!, :setnames!, :sexp]"
          ]
        }
      ],
      "execution_count": 41,
      "metadata": {}
    },
    {
      "cell_type": "markdown",
      "source": [
        "The documentation string of a function can be viewed by prefixing a `?`"
      ],
      "metadata": {}
    },
    {
      "cell_type": "code",
      "source": [
        "?@rput"
      ],
      "outputs": [
        {
          "output_type": "execute_result",
          "execution_count": 42,
          "data": {
            "text/latex": [
              "Copies variables from Julia to R using the same name.\n",
              "\n"
            ],
            "text/markdown": [
              "Copies variables from Julia to R using the same name.\n"
            ],
            "text/plain": [
              "  Copies variables from Julia to R using the same name."
            ]
          },
          "metadata": {}
        }
      ],
      "execution_count": 42,
      "metadata": {}
    },
    {
      "cell_type": "markdown",
      "source": [
        "## Using Python from Julia "
      ],
      "metadata": {}
    },
    {
      "cell_type": "markdown",
      "source": [
        "Python code can be written via the python string macro ( `@py_str` ) as shown below."
      ],
      "metadata": {}
    },
    {
      "cell_type": "code",
      "source": [
        "py\"\"\"\n",
        "def fib(n):\n",
        "    if n<2:\n",
        "        return 1\n",
        "    x,y = 1,1\n",
        "    for i in range(n-2):\n",
        "        x,y = y,x+y\n",
        "    return y\n",
        "\"\"\""
      ],
      "outputs": [],
      "execution_count": 5,
      "metadata": {}
    },
    {
      "cell_type": "markdown",
      "source": [
        "Python libraries can be imported in julia via the `@pyimport` macro."
      ],
      "metadata": {}
    },
    {
      "cell_type": "code",
      "source": [
        "@pyimport numpy"
      ],
      "outputs": [],
      "execution_count": 26,
      "metadata": {}
    },
    {
      "cell_type": "code",
      "source": [
        "#Pkg.add(\"PyPlot\");"
      ],
      "outputs": [],
      "execution_count": 4,
      "metadata": {}
    },
    {
      "cell_type": "code",
      "source": [
        "using PyPlot # that's using matplotlib from julia"
      ],
      "outputs": [
        {
          "output_type": "stream",
          "name": "stderr",
          "text": [
            "┌ Info: Recompiling stale cache file /usr/home/christ/.julia/compiled/v1.1/PyPlot/oatAj.ji for PyPlot [d330b81b-6aea-500a-939a-2ce795aea3ee]\n",
            "└ @ Base loading.jl:1184\n"
          ]
        }
      ],
      "execution_count": 5,
      "metadata": {}
    },
    {
      "cell_type": "markdown",
      "source": [
        "The multiline string version ( `py\"\"\" ... \"\"\"` ) does return `nothing` whereas the inline string version  ( `py\" ... \"` ) returns the last expression."
      ],
      "metadata": {}
    },
    {
      "cell_type": "code",
      "source": [
        "py\"\"\"\n",
        "import numpy as np\n",
        "X = np.arange(1,30)\n",
        "Y = np.array([fib(x) for x in X])\n",
        "ax.scatter(X, Y)\n",
        "ax.set(xlabel='n', ylabel='fib(n)',\n",
        "       title='The Fibonacci sequence grows fast !')\n",
        "\"\"\"\n",
        "X, Y = py\"X\", py\"Y\"\n",
        "function fibplot( x, y )\n",
        "    scatter( x, y )\n",
        "    xlabel(\"n\")\n",
        "    ylabel(\"fib(n)\")\n",
        "    title(\"The Fibonacci sequence grows fast !\")\n",
        "end\n",
        "fibplot( X, Y );"
      ],
      "outputs": [
        {
          "output_type": "display_data",
          "data": {
            "image/png": "[encoded data removed]",
            "text/plain": [
              "Figure(PyObject <Figure size 640x480 with 1 Axes>)"
            ]
          },
          "metadata": {}
        }
      ],
      "execution_count": 67,
      "metadata": {}
    },
    {
      "cell_type": "markdown",
      "source": [
        "## Using R from Julia\n",
        "Here we are passing the arrays that we created with python and plotted in Julia to R"
      ],
      "metadata": {}
    },
    {
      "cell_type": "code",
      "source": [
        "@rput X Y;"
      ],
      "outputs": [],
      "execution_count": 47,
      "metadata": {}
    },
    {
      "cell_type": "code",
      "source": [
        "R\"\"\"\n",
        "my_summary = summary(lm(log(Y)~X))\n",
        "val <- my_summary$coefficients\n",
        "\n",
        "plot(X, log(Y))\n",
        "abline(my_summary)\n",
        "\"\"\";"
      ],
      "outputs": [
        {
          "output_type": "display_data",
          "data": {
            "image/png": "[encoded data removed]"
          },
          "metadata": {}
        },
        {
          "output_type": "stream",
          "name": "stderr",
          "text": [
            "┌ Warning: RCall.jl: Warning in abline(my_summary) :\n",
            "│   only using the first two of 8 regression coefficients\n",
            "└ @ RCall /usr/home/christ/.julia/packages/RCall/29zDq/src/io.jl:113\n"
          ]
        }
      ],
      "execution_count": 49,
      "metadata": {}
    },
    {
      "cell_type": "markdown",
      "source": [
        "## Writing, compiling and executing C from Julia"
      ],
      "metadata": {}
    },
    {
      "cell_type": "markdown",
      "source": [
        "And now we write and compile the same function in C and wrap it in Julia"
      ],
      "metadata": {}
    },
    {
      "cell_type": "code",
      "source": [
        "# Pkg.add(\"Libdl\")\n",
        "using Libdl\n",
        "C_code = \"\"\"\n",
        "int cfib(int n)\n",
        "{\n",
        "    int res=0;\n",
        "    if (n <= 2){  \n",
        "        res = 1;\n",
        "    } else {\n",
        "        res = cfib(n-1)+cfib(n-2);\n",
        "    }\n",
        "    return res;\n",
        "}\n",
        "\"\"\"\n",
        "\n",
        "const Clib = tempname()   # make a temporary file\n",
        "\n\n",
        "# compile to a shared library by piping C_code to gcc\n",
        "# (works only if you have gcc installed):\n",
        "\n",
        "open(`gcc -fPIC -O3 -msse3 -xc -shared -o $(Clib * \".\" * Libdl.dlext) -`, \"w\") do f\n",
        "    print(f, C_code) \n",
        "end\n",
        "\n",
        "# define a Julia function that calls the C function:\n",
        "c_fib(X::Int) = ccall((\"cfib\", Clib), Int, (Int,), X)"
      ],
      "outputs": [
        {
          "output_type": "stream",
          "name": "stderr",
          "text": [
            "WARNING: redefining constant Clib\n"
          ]
        },
        {
          "output_type": "execute_result",
          "execution_count": 63,
          "data": {
            "text/plain": [
              "c_fib (generic function with 1 method)"
            ]
          },
          "metadata": {}
        }
      ],
      "execution_count": 63,
      "metadata": {}
    },
    {
      "cell_type": "code",
      "source": [
        "x = 1:30\n",
        "y = [c_fib(ξ) for ξ in x] # ξ is \\xi<tab>\n",
        "fibplot( x, y );"
      ],
      "outputs": [
        {
          "output_type": "display_data",
          "data": {
            "image/png": "[encoded data removed]",
            "text/plain": [
              "Figure(PyObject <Figure size 640x480 with 1 Axes>)"
            ]
          },
          "metadata": {}
        }
      ],
      "execution_count": 69,
      "metadata": {}
    }
  ],
  "metadata": {
    "@webio": {
      "lastCommId": "80d0b224e299432685958ad88ba47af3",
      "lastKernelId": "f6a49b41-b673-4b84-a7c4-1ce53e4e75f8"
    },
    "kernelspec": {
      "display_name": "Julia 1.1.0",
      "language": "julia",
      "name": "julia-1.1"
    },
    "language_info": {
      "file_extension": ".jl",
      "mimetype": "application/julia",
      "name": "julia",
      "version": "1.1.0"
    },
    "nteract": {
      "version": "0.11.9"
    }
  },
  "nbformat": 4,
  "nbformat_minor": 2
}